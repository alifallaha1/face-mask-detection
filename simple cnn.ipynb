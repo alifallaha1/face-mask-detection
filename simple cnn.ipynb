{
 "cells": [
  {
   "cell_type": "code",
   "execution_count": 1,
   "id": "07b54007-b0c2-47e5-a4a4-c9db7ed0f2fa",
   "metadata": {},
   "outputs": [],
   "source": [
    "import os\n",
    "import numpy as np\n",
    "import matplotlib.pyplot as plt\n",
    "import matplotlib.image as mpimg\n",
    "import cv2\n",
    "from PIL import Image \n",
    "from sklearn.model_selection import train_test_split\n",
    "import tensorflow as tf\n",
    "from tensorflow import keras"
   ]
  },
  {
   "cell_type": "markdown",
   "id": "e2dca1d2-3737-4f5b-95e1-0cd471a9def8",
   "metadata": {},
   "source": [
    "# Download Face Mask Dataset"
   ]
  },
  {
   "cell_type": "code",
   "execution_count": 2,
   "id": "4dcb019a-161c-4a8e-a57b-a234275318d1",
   "metadata": {},
   "outputs": [],
   "source": [
    "# configuring the path of Kaggle.json file\n",
    "# !pip install kaggle\n",
    "!mkdir -p ~/.kaggle\n",
    "!cp kaggle.json ~/.kaggle/\n",
    "!chmod 600 ~/.kaggle/kaggle.json"
   ]
  },
  {
   "cell_type": "code",
   "execution_count": 3,
   "id": "f99105df-4d76-4bf4-bf02-c2c41d501d73",
   "metadata": {},
   "outputs": [
    {
     "name": "stdout",
     "output_type": "stream",
     "text": [
      "face-mask-dataset.zip: Skipping, found more recently modified local copy (use --force to force download)\n"
     ]
    }
   ],
   "source": [
    "!kaggle datasets download -d omkargurav/face-mask-dataset"
   ]
  },
  {
   "cell_type": "code",
   "execution_count": 4,
   "id": "7ab0da22-bcac-4093-93d2-432e621f4040",
   "metadata": {},
   "outputs": [
    {
     "name": "stdout",
     "output_type": "stream",
     "text": [
      "The dataset is extracted\n"
     ]
    }
   ],
   "source": [
    "# extracting the compessed Dataset\n",
    "from zipfile import ZipFile\n",
    "dataset = 'face-mask-dataset.zip'\n",
    "\n",
    "with ZipFile(dataset,'r') as zip:\n",
    "    zip.extractall()\n",
    "    print('The dataset is extracted')"
   ]
  },
  {
   "cell_type": "code",
   "execution_count": 5,
   "id": "d3d41fbc-49d7-4992-8506-49746d018a6f",
   "metadata": {},
   "outputs": [],
   "source": [
    "with_mask_files = os.listdir('data/with_mask')\n",
    "\n",
    "without_mask_files = os.listdir('data/without_mask')\n",
    "\n",
    "text_to_delete ='.DS_Store'\n",
    "while text_to_delete in with_mask_files:\n",
    "    with_mask_files.remove(text_to_delete)\n",
    "    print(\"the add file delete\")"
   ]
  },
  {
   "cell_type": "code",
   "execution_count": null,
   "id": "82d70815-9ea9-4784-ab34-343814458d8a",
   "metadata": {},
   "outputs": [],
   "source": []
  },
  {
   "cell_type": "code",
   "execution_count": 6,
   "id": "45bb5312-fae1-4014-86fd-dda20218f520",
   "metadata": {},
   "outputs": [],
   "source": [
    "with_mask_labels = [1]*len(with_mask_files)\n",
    "without_mask_labels = [0]*len(without_mask_files)\n",
    "labels = with_mask_labels + without_mask_labels\n"
   ]
  },
  {
   "cell_type": "markdown",
   "id": "eb9af6e1-203f-42be-b097-0f4e093fcfb0",
   "metadata": {},
   "source": [
    "# Data Processing"
   ]
  },
  {
   "cell_type": "code",
   "execution_count": 7,
   "id": "bdc655bf-f236-47d7-8738-a00774a1c91a",
   "metadata": {
    "tags": []
   },
   "outputs": [
    {
     "name": "stderr",
     "output_type": "stream",
     "text": [
      "/Users/alifallaha/anaconda3/lib/python3.10/site-packages/PIL/Image.py:996: UserWarning: Palette images with Transparency expressed in bytes should be converted to RGBA images\n",
      "  warnings.warn(\n"
     ]
    }
   ],
   "source": [
    "with_mask_path = 'data/with_mask/'\n",
    "\n",
    "data = []\n",
    "\n",
    "for img_file in with_mask_files:\n",
    "    file_path = os.path.join(with_mask_path, img_file)\n",
    "    if os.path.isfile(file_path):\n",
    "        image = Image.open(file_path)\n",
    "        image = image.resize((128,128))\n",
    "        image = image.convert('RGB')\n",
    "        image = np.array(image)\n",
    "        data.append(image)\n",
    "\n",
    "\n",
    "\n",
    "\n",
    "without_mask_path = 'data/without_mask/'\n",
    "\n",
    "\n",
    "for img_file in without_mask_files:\n",
    "    file_path = os.path.join(without_mask_path, img_file)\n",
    "    if os.path.isfile(file_path):\n",
    "        image = Image.open(file_path)\n",
    "        image = image.resize((128,128))\n",
    "        image = image.convert('RGB')\n",
    "        image = np.array(image)\n",
    "        data.append(image)"
   ]
  },
  {
   "cell_type": "code",
   "execution_count": 8,
   "id": "062afc1b-6e64-43e6-bc39-f0755a2a5227",
   "metadata": {},
   "outputs": [],
   "source": [
    "# converting image list and label list to numpy arrays\n",
    "\n",
    "X = np.array(data)\n",
    "Y = np.array(labels)\n"
   ]
  },
  {
   "cell_type": "markdown",
   "id": "d3e5dddc-7b5b-4719-83ed-7d53d60c4f8b",
   "metadata": {},
   "source": [
    "# Train Test Split\n"
   ]
  },
  {
   "cell_type": "code",
   "execution_count": 9,
   "id": "09d4b416-2045-42b0-85be-688e658524d4",
   "metadata": {},
   "outputs": [],
   "source": [
    "X_train, X_test, Y_train, Y_test = train_test_split(X, Y, test_size=0.2, random_state=2)"
   ]
  },
  {
   "cell_type": "code",
   "execution_count": 10,
   "id": "87cb8f4f-9edf-4d7b-88e9-7b9a1cd889b4",
   "metadata": {},
   "outputs": [],
   "source": [
    "# scaling the data\n",
    "\n",
    "X_train_scaled = X_train/255\n",
    "\n",
    "X_test_scaled = X_test/255"
   ]
  },
  {
   "cell_type": "markdown",
   "id": "212cdb5f-7d92-46d5-873b-c463d6cc6273",
   "metadata": {},
   "source": [
    "# Building a Convolutional Neural Networks (CNN) with keras"
   ]
  },
  {
   "cell_type": "code",
   "execution_count": 11,
   "id": "de223837-e8ff-4c38-b13a-6d2e288d5631",
   "metadata": {},
   "outputs": [],
   "source": [
    "num_of_classes = 2\n",
    "\n",
    "model = keras.Sequential()\n",
    "\n",
    "model.add(keras.layers.Conv2D(32, kernel_size=(3,3), activation='relu', input_shape=(128,128,3)))\n",
    "model.add(keras.layers.MaxPooling2D(pool_size=(2,2)))\n",
    "\n",
    "\n",
    "model.add(keras.layers.Conv2D(64, kernel_size=(3,3), activation='relu'))\n",
    "model.add(keras.layers.MaxPooling2D(pool_size=(2,2)))\n",
    "\n",
    "model.add(keras.layers.Flatten())\n",
    "\n",
    "model.add(keras.layers.Dense(128, activation='relu'))\n",
    "model.add(keras.layers.Dropout(0.5))\n",
    "\n",
    "model.add(keras.layers.Dense(64, activation='relu'))\n",
    "model.add(keras.layers.Dropout(0.5))\n",
    "\n",
    "\n",
    "model.add(keras.layers.Dense(num_of_classes, activation='sigmoid'))"
   ]
  },
  {
   "cell_type": "code",
   "execution_count": 12,
   "id": "584d3006-c8be-4af6-9474-6c8fd3dc9b8d",
   "metadata": {},
   "outputs": [],
   "source": [
    "# compile the neural network\n",
    "model.compile(optimizer='adam',\n",
    "              loss='sparse_categorical_crossentropy',\n",
    "              metrics=['acc'])"
   ]
  },
  {
   "cell_type": "code",
   "execution_count": 13,
   "id": "af95371b-9987-4a1f-b45b-bae6881c240e",
   "metadata": {},
   "outputs": [
    {
     "name": "stdout",
     "output_type": "stream",
     "text": [
      "Epoch 1/5\n",
      "170/170 [==============================] - 18s 104ms/step - loss: 0.5471 - acc: 0.7942 - val_loss: 0.3151 - val_acc: 0.8595\n",
      "Epoch 2/5\n",
      "170/170 [==============================] - 18s 103ms/step - loss: 0.3014 - acc: 0.8770 - val_loss: 0.3185 - val_acc: 0.8711\n",
      "Epoch 3/5\n",
      "170/170 [==============================] - 17s 102ms/step - loss: 0.2466 - acc: 0.9025 - val_loss: 0.3048 - val_acc: 0.8860\n",
      "Epoch 4/5\n",
      "170/170 [==============================] - 17s 102ms/step - loss: 0.2005 - acc: 0.9178 - val_loss: 0.2776 - val_acc: 0.8876\n",
      "Epoch 5/5\n",
      "170/170 [==============================] - 17s 102ms/step - loss: 0.1900 - acc: 0.9261 - val_loss: 0.2682 - val_acc: 0.8942\n"
     ]
    }
   ],
   "source": [
    "history = model.fit(X_train_scaled, Y_train, validation_split=0.1, epochs=5)"
   ]
  },
  {
   "cell_type": "markdown",
   "id": "623a899f-fcde-4435-995f-66c7858e50ab",
   "metadata": {},
   "source": [
    "# Model Evaluation"
   ]
  },
  {
   "cell_type": "code",
   "execution_count": 14,
   "id": "93367f67-7348-42bd-a5c2-674c9c3a50bc",
   "metadata": {},
   "outputs": [
    {
     "name": "stdout",
     "output_type": "stream",
     "text": [
      "48/48 [==============================] - 1s 26ms/step - loss: 0.2129 - acc: 0.9239\n",
      "Test Accuracy = 0.9238914847373962\n"
     ]
    }
   ],
   "source": [
    "loss, accuracy = model.evaluate(X_test_scaled, Y_test)\n",
    "print('Test Accuracy =', accuracy)\n"
   ]
  },
  {
   "cell_type": "code",
   "execution_count": 15,
   "id": "c9be4b23-27c1-49b1-9491-bfc8c4714593",
   "metadata": {},
   "outputs": [
    {
     "data": {
      "image/png": "[encoded data removed]",
      "text/plain": [
       "<Figure size 640x480 with 1 Axes>"
      ]
     },
     "metadata": {},
     "output_type": "display_data"
    },
    {
     "data": {
      "image/png": "[encoded data removed]",
      "text/plain": [
       "<Figure size 640x480 with 1 Axes>"
      ]
     },
     "metadata": {},
     "output_type": "display_data"
    }
   ],
   "source": [
    "h = history\n",
    "\n",
    "# plot the loss value\n",
    "plt.plot(h.history['loss'], label='train loss')\n",
    "plt.plot(h.history['val_loss'], label='validation loss')\n",
    "plt.legend()\n",
    "plt.show()\n",
    "\n",
    "# plot the accuracy value\n",
    "plt.plot(h.history['acc'], label='train accuracy')\n",
    "plt.plot(h.history['val_acc'], label='validation accuracy')\n",
    "plt.legend()\n",
    "plt.show()"
   ]
  },
  {
   "cell_type": "code",
   "execution_count": 16,
   "id": "58a318cf-5e18-4259-ab6b-39f4562b86db",
   "metadata": {},
   "outputs": [
    {
     "name": "stdin",
     "output_type": "stream",
     "text": [
      "Path of the image to be predicted:  test.png\n"
     ]
    },
    {
     "name": "stdout",
     "output_type": "stream",
     "text": [
      "1/1 [==============================] - 0s 57ms/step\n",
      "[[0.5236782 0.6777777]]\n",
      "1\n",
      "The person in the image is wearing a mask\n"
     ]
    }
   ],
   "source": [
    "input_image_path = input('Path of the image to be predicted: ')\n",
    "\n",
    "input_image = cv2.imread(input_image_path)\n",
    "\n",
    "\n",
    "input_image_resized = cv2.resize(input_image, (128,128))\n",
    "\n",
    "input_image_scaled = input_image_resized/255\n",
    "\n",
    "input_image_reshaped = np.reshape(input_image_scaled, [1,128,128,3])\n",
    "\n",
    "input_prediction = model.predict(input_image_reshaped)\n",
    "\n",
    "print(input_prediction)\n",
    "\n",
    "\n",
    "input_pred_label = np.argmax(input_prediction)\n",
    "\n",
    "print(input_pred_label)\n",
    "\n",
    "\n",
    "if input_pred_label == 1:\n",
    "\n",
    "  print('The person in the image is wearing a mask')\n",
    "\n",
    "else:\n",
    "\n",
    "  print('The person in the image is not wearing a mask')"
   ]
  },
  {
   "cell_type": "code",
   "execution_count": null,
   "id": "4bed8259-d87c-49b8-93dc-8c84ea47ed7e",
   "metadata": {},
   "outputs": [],
   "source": []
  }
 ],
 "metadata": {
  "kernelspec": {
   "display_name": "imageClass",
   "language": "python",
   "name": "imageclass"
  },
  "language_info": {
   "codemirror_mode": {
    "name": "ipython",
    "version": 3
   },
   "file_extension": ".py",
   "mimetype": "text/x-python",
   "name": "python",
   "nbconvert_exporter": "python",
   "pygments_lexer": "ipython3",
   "version": "3.10.9"
  }
 },
 "nbformat": 4,
 "nbformat_minor": 5
}
